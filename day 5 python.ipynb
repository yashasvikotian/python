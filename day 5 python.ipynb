{
 "cells": [
  {
   "cell_type": "code",
   "execution_count": null,
   "id": "57c9454b-e095-40a7-ba7e-86664de4f4ab",
   "metadata": {},
   "outputs": [],
   "source": [
    "a = 5\n",
    "print(type(a))\n",
    "<class 'int'>"
   ]
  },
  {
   "cell_type": "code",
   "execution_count": null,
   "id": "ad545705-8dbb-42f1-a3b3-bc3c122959bc",
   "metadata": {},
   "outputs": [],
   "source": [
    "create laptop class\n",
    "with variable as processor, Ram and storage \n",
    "\n",
    "create function to print the configuration of the laptop\n",
    "\n",
    "create 3 object of laptop with brand and display its configuration "
   ]
  },
  {
   "cell_type": "code",
   "execution_count": 51,
   "id": "17adce29-1b94-41df-a27b-45fcfa56018c",
   "metadata": {},
   "outputs": [
    {
     "name": "stdout",
     "output_type": "stream",
     "text": [
      "configuration of the laptop is: \n",
      "processor i5\n",
      "Ram 8\n",
      "storage 512\n"
     ]
    }
   ],
   "source": [
    "class laptop:\n",
    "    def __init__(self,p,r,s):\n",
    "        self.processor=p\n",
    "        self.ram=r\n",
    "        self.storage=s\n",
    "\n",
    "    def config(self):\n",
    "        print(\"configuration of the laptop is: \")\n",
    "        print(\"processor\",self.processor)\n",
    "        print(\"Ram\",self.ram)\n",
    "        print(\"storage\",self.storage)\n",
    "\n",
    "if __name__==\"__main__\":\n",
    "    hp = laptop(\"i5\",8,512)\n",
    "    hp.config()"
   ]
  },
  {
   "cell_type": "code",
   "execution_count": 33,
   "id": "bbeb15de-31b8-4dbe-baf2-7a0ad3a404b7",
   "metadata": {},
   "outputs": [
    {
     "name": "stdout",
     "output_type": "stream",
     "text": [
      "the marks of the student: \n",
      "Subject 1:  100\n",
      "Subject 2:  85\n",
      "Subject 3:  90\n",
      "Subject 4:  87\n",
      "Subject 5:  83\n",
      "Average of the Marks =  89.0\n"
     ]
    }
   ],
   "source": [
    "class student:\n",
    "    def __init__(self,marks1,marks2,marks3,marks4,marks5):\n",
    "\n",
    "        self.s1 = marks1\n",
    "        self.s2 = marks2\n",
    "        self.s3 = marks3\n",
    "        self.s4 = marks4\n",
    "        self.s5 = marks5\n",
    "\n",
    "    def marksheet(self):\n",
    "        print(\"the marks of the student: \")\n",
    "\n",
    "        print(\"Subject 1: \",self.s1)\n",
    "        print(\"Subject 2: \",self.s2)\n",
    "        print(\"Subject 3: \",self.s3)\n",
    "        print(\"Subject 4: \",self.s4)\n",
    "        print(\"Subject 5: \",self.s5)\n",
    "\n",
    "        print(\"Average of the Marks = \",(self.s1+self.s2+self.s3+self.s4+self.s5)/5)\n",
    "             \n",
    "if __name__==\"__main__\":\n",
    "      student1=student(100,85,90,87,83)\n",
    "      student1.marksheet()"
   ]
  },
  {
   "cell_type": "code",
   "execution_count": 38,
   "id": "2516062d-86ac-432e-b398-f7fc880bdd74",
   "metadata": {},
   "outputs": [
    {
     "name": "stdout",
     "output_type": "stream",
     "text": [
      "this is f1\n",
      "this is f2\n"
     ]
    },
    {
     "ename": "AttributeError",
     "evalue": "'a' object has no attribute 'fun3'",
     "output_type": "error",
     "traceback": [
      "\u001b[1;31m---------------------------------------------------------------------------\u001b[0m",
      "\u001b[1;31mAttributeError\u001b[0m                            Traceback (most recent call last)",
      "Cell \u001b[1;32mIn[38], line 24\u001b[0m\n\u001b[0;32m     22\u001b[0m ob1\u001b[38;5;241m.\u001b[39mfun1()\n\u001b[0;32m     23\u001b[0m ob1\u001b[38;5;241m.\u001b[39mfun2()\n\u001b[1;32m---> 24\u001b[0m \u001b[43mob2\u001b[49m\u001b[38;5;241;43m.\u001b[39;49m\u001b[43mfun3\u001b[49m()\n\u001b[0;32m     25\u001b[0m ob2\u001b[38;5;241m.\u001b[39mfun4()\n\u001b[0;32m     26\u001b[0m ob3\u001b[38;5;241m.\u001b[39mfun5()\n",
      "\u001b[1;31mAttributeError\u001b[0m: 'a' object has no attribute 'fun3'"
     ]
    }
   ],
   "source": [
    "class a:\n",
    "    def fun1(self):\n",
    "        print(\"this is f1\")\n",
    "    def fun2(self):\n",
    "        print(\"this is f2\")      \n",
    "class b:\n",
    "    def fun3(self):\n",
    "        print(\"this is f1\")\n",
    "    def fun4(self):\n",
    "        print(\"this is f2\")      \n",
    "class c(b):\n",
    "    def fun5(self):\n",
    "        print(\"this is f1\")\n",
    "    def fun6(self):\n",
    "        print(\"this is f2\")          \n",
    "\n",
    "if __name__==\"__main__\":\n",
    "  ob1=a()\n",
    "  ob2=a()\n",
    "  ob3=a()\n",
    "    \n",
    "  ob1.fun1()\n",
    "  ob1.fun2()\n",
    "  ob2.fun3()\n",
    "  ob2.fun4()\n",
    "  ob3.fun5()\n",
    "  ob3.fun6()\n",
    "\n"
   ]
  },
  {
   "cell_type": "code",
   "execution_count": 40,
   "id": "78de38d0-eec8-4511-90d4-5a4cac79f06f",
   "metadata": {},
   "outputs": [
    {
     "name": "stdout",
     "output_type": "stream",
     "text": [
      "constructer of class c 7\n",
      "7 8\n"
     ]
    }
   ],
   "source": [
    "class c:\n",
    "    def __init__(self,a=7,b=8):\n",
    "        print(\"constructer of class c\",a)\n",
    "        self.x=a\n",
    "        self.y=b\n",
    "        print(self.x,self.y)\n",
    "\n",
    "ob=c()"
   ]
  },
  {
   "cell_type": "code",
   "execution_count": 44,
   "id": "3cff676e-4e9d-41ed-81cc-308692073eb2",
   "metadata": {},
   "outputs": [
    {
     "ename": "NameError",
     "evalue": "name '__name' is not defined",
     "output_type": "error",
     "traceback": [
      "\u001b[1;31m---------------------------------------------------------------------------\u001b[0m",
      "\u001b[1;31mNameError\u001b[0m                                 Traceback (most recent call last)",
      "Cell \u001b[1;32mIn[44], line 14\u001b[0m\n\u001b[0;32m     12\u001b[0m      \u001b[38;5;28;01mdef\u001b[39;00m \u001b[38;5;21m_init_\u001b[39m(\u001b[38;5;28mself\u001b[39m):\n\u001b[0;32m     13\u001b[0m         \u001b[38;5;28mprint\u001b[39m(\u001b[38;5;124m\"\u001b[39m\u001b[38;5;124mconstructor of class c\u001b[39m\u001b[38;5;124m\"\u001b[39m)\n\u001b[1;32m---> 14\u001b[0m \u001b[38;5;28;01mif\u001b[39;00m \u001b[43m__name\u001b[49m\u001b[38;5;241m==\u001b[39m\u001b[38;5;124m\"\u001b[39m\u001b[38;5;124mmain__\u001b[39m\u001b[38;5;124m\"\u001b[39m:\n\u001b[0;32m     15\u001b[0m     ob\u001b[38;5;241m=\u001b[39ma()\n\u001b[0;32m     16\u001b[0m     ob\u001b[38;5;241m=\u001b[39ma(\u001b[38;5;241m2\u001b[39m)\n",
      "\u001b[1;31mNameError\u001b[0m: name '__name' is not defined"
     ]
    }
   ],
   "source": [
    "class a:\n",
    "    def _init_(self):\n",
    "        print(\"constructor of class a\")\n",
    "    def _init_(self,a):\n",
    "        print(\"constructor of class a with\",a)\n",
    "    def _init_(self,a,b):\n",
    "        print(\"constructor of class a with\",a,b)\n",
    "class b(a):\n",
    "    def _init_(self):\n",
    "        print(\"constructor of class b\")\n",
    "class c(b,a):\n",
    "     def _init_(self):\n",
    "        print(\"constructor of class c\")\n",
    "if __name==\"main__\":\n",
    "    ob=a()\n",
    "    ob=a(2)\n",
    "    ob=a(2,3)"
   ]
  },
  {
   "cell_type": "code",
   "execution_count": 47,
   "id": "4a1cb916-c1b4-4c90-80f3-d01bd62b5ba4",
   "metadata": {},
   "outputs": [
    {
     "ename": "SyntaxError",
     "evalue": "invalid syntax (3410311921.py, line 21)",
     "output_type": "error",
     "traceback": [
      "\u001b[1;36m  Cell \u001b[1;32mIn[47], line 21\u001b[1;36m\u001b[0m\n\u001b[1;33m    def_init_(self):\u001b[0m\n\u001b[1;37m                   ^\u001b[0m\n\u001b[1;31mSyntaxError\u001b[0m\u001b[1;31m:\u001b[0m invalid syntax\n"
     ]
    }
   ],
   "source": [
    "class a:\n",
    "    def _init_(self):\n",
    "        print(\"constructor of class a\")\n",
    "    def show(self):\n",
    "        print(\"printing the show of a\")\n",
    "\n",
    "class b:\n",
    "    def _init_(self):\n",
    "        print(\"constructor of class b\")\n",
    "    def show(self):\n",
    "        print(\"printing the show of b\")\n",
    "        \n",
    "class c(a):\n",
    "    def _init_(self):\n",
    "        print(\"constructor of class c\")\n",
    "    def show(self):\n",
    "        print(\"printing the show of c\")\n",
    "        super().show()\n",
    "\n",
    "class d:\n",
    "    def_init_(self):\n",
    "        print(\"constructor of class d\")\n",
    "    def show(self):\n",
    "        print(\"printing the show of d\")\n",
    "\n",
    "if __name==\"main__\":\n",
    "    ob1=a()"
   ]
  },
  {
   "cell_type": "code",
   "execution_count": 50,
   "id": "309d819d-054a-4861-8b50-5188177bc468",
   "metadata": {},
   "outputs": [
    {
     "name": "stdout",
     "output_type": "stream",
     "text": [
      "Professional laptop specifications: 8hr i9 8 512\n",
      "Gaming laptop specifications: 9 i7 16 512\n"
     ]
    }
   ],
   "source": [
    "class laptop:\n",
    "    def __init__(self, p, r, s):\n",
    "        self.processor = p\n",
    "        self.ram = r\n",
    "        self.storage = s\n",
    "          \n",
    "\n",
    "class professional(laptop):\n",
    "    def __init__(self, bat, p, r, s):\n",
    "        self.batterybackup = bat\n",
    "        super().__init__(p, r, s)\n",
    "\n",
    "   \n",
    "class gaming(laptop):\n",
    "    def __init__(self, graphic, p, r, s):\n",
    "        self.graphiccard = graphic\n",
    "        super().__init__(p, r, s)\n",
    "        \n",
    "obj1 = laptop('i7', 16, 512)\n",
    "obj2 = professional('8hr', 'i9', 8, 512)\n",
    "obj3 = gaming(\"9\", 'i7', '16', 512)\n",
    "\n",
    "print(\"Professional laptop specifications:\", obj2.batterybackup, obj2.processor, obj2.ram, obj2.storage)\n",
    "print(\"Gaming laptop specifications:\", obj3.graphiccard, obj3.processor, obj3.ram, obj3.storage)"
   ]
  },
  {
   "cell_type": "code",
   "execution_count": 52,
   "id": "4ac48e59-cc8a-46c0-b95e-e45c28dfbf1b",
   "metadata": {},
   "outputs": [
    {
     "name": "stdout",
     "output_type": "stream",
     "text": [
      "Ticket booked Fare Price will be:  6550\n"
     ]
    }
   ],
   "source": [
    " class ticket:\n",
    "   \n",
    "    def _init_(self,D):\n",
    "        self.distance = int(D)\n",
    "        self.farePrice = None\n",
    "\n",
    "class gen(ticket):\n",
    "    def _init_(self,D):\n",
    "        super()._init_(D)\n",
    "    def print_ticket(self):\n",
    "        self.farePrice=50+(self.distance*2)\n",
    "        return self.farePrice\n",
    "        \n",
    "\n",
    "\n",
    "class slp(gen):\n",
    "    def __init__(self,D):\n",
    "        super().__init__(D)\n",
    "\n",
    "    def print_ticket(self):\n",
    "        self.farePrice=super().print_ticket()+(2*self.distance)\n",
    "        return self.farePrice\n",
    "\n",
    "class AC(slp):\n",
    "    def __init__(self,D):\n",
    "        super()._init_(D)\n",
    "    def print_ticket(self):\n",
    "        self.farePrice=super().print_ticket()+(4*self.distance)\n",
    "        return self.farePrice\n",
    "\n",
    "class FC(AC):\n",
    "    def __init__(self,D):\n",
    "        super().__init__(D)\n",
    "    def print_ticket(self):\n",
    "        self.farePrice=super().print_ticket()+(5*self.distance)\n",
    "        return self.farePrice\n",
    "\n",
    "\n",
    "jur = FC(500)\n",
    "print(\"Ticket booked Fare Price will be: \",jur.print_ticket())"
   ]
  },
  {
   "cell_type": "code",
   "execution_count": null,
   "id": "b5654904-7291-495b-a075-2eef1275fdb1",
   "metadata": {},
   "outputs": [],
   "source": []
  }
 ],
 "metadata": {
  "kernelspec": {
   "display_name": "Python 3 (ipykernel)",
   "language": "python",
   "name": "python3"
  },
  "language_info": {
   "codemirror_mode": {
    "name": "ipython",
    "version": 3
   },
   "file_extension": ".py",
   "mimetype": "text/x-python",
   "name": "python",
   "nbconvert_exporter": "python",
   "pygments_lexer": "ipython3",
   "version": "3.12.3"
  }
 },
 "nbformat": 4,
 "nbformat_minor": 5
}
