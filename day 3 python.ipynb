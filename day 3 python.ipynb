{
 "cells": [
  {
   "cell_type": "code",
   "execution_count": null,
   "id": "a84e1ade-8486-4631-b375-e1be10346394",
   "metadata": {},
   "outputs": [],
   "source": [
    "a=[1,2,3,4,5]\n",
    "print(a)"
   ]
  },
  {
   "cell_type": "code",
   "execution_count": null,
   "id": "bb289436-296c-4066-9431-910460587b24",
   "metadata": {},
   "outputs": [],
   "source": [
    "a=[15,13,14,12]\n",
    "print(a)\n",
    "print(type(a))"
   ]
  },
  {
   "cell_type": "code",
   "execution_count": null,
   "id": "6bf24733-efa5-4075-a77a-1a962c1d07ec",
   "metadata": {},
   "outputs": [],
   "source": [
    "a=[1,3,5,6]\n",
    "b=a.copy()\n",
    "print(b)\n",
    "a.append(24)\n",
    "print(a)\n",
    "a.insert(2,34)\n",
    "print(a)\n",
    "b.sort(reverse=True)\n",
    "print(b)\n"
   ]
  },
  {
   "cell_type": "code",
   "execution_count": null,
   "id": "46121492-490f-4f26-b226-d6269dfc45bc",
   "metadata": {},
   "outputs": [],
   "source": [
    "a=[2,3,4,5,6]\n",
    "for x in a:\n",
    "    print(x)"
   ]
  },
  {
   "cell_type": "code",
   "execution_count": 1,
   "id": "adcf3bba-cf9f-49b1-beb3-05125d383654",
   "metadata": {},
   "outputs": [
    {
     "name": "stdout",
     "output_type": "stream",
     "text": [
      "enter the element os the list:  10 40 30 20\n"
     ]
    },
    {
     "name": "stdout",
     "output_type": "stream",
     "text": [
      "[10, 40, 30, 20]\n"
     ]
    }
   ],
   "source": [
    "L = [int(item) for item in (input(\"enter the element os the list: \").split())]\n",
    "print(L)"
   ]
  },
  {
   "cell_type": "code",
   "execution_count": 7,
   "id": "a7dcda1a-8cef-493b-bf63-3eb6de3ae9ae",
   "metadata": {},
   "outputs": [
    {
     "name": "stdout",
     "output_type": "stream",
     "text": [
      "4\n",
      "3\n",
      "2\n",
      "1\n"
     ]
    }
   ],
   "source": [
    "a=[1,2,3,4]\n",
    "for x in range(-1,-1*(len(a)+1),-1):\n",
    "    print(a[x])"
   ]
  },
  {
   "cell_type": "code",
   "execution_count": 8,
   "id": "efb2e1f9-1a9f-45f3-8126-e1671ab8a803",
   "metadata": {},
   "outputs": [
    {
     "name": "stdout",
     "output_type": "stream",
     "text": [
      "7\n",
      "6\n",
      "5\n",
      "4\n",
      "3\n",
      "2\n"
     ]
    }
   ],
   "source": [
    "#another way\n",
    "a=(2,3,4,5,6,7)\n",
    "for x in range(0,len(a)):\n",
    "    print(a[-1*(x+1)])"
   ]
  },
  {
   "cell_type": "code",
   "execution_count": null,
   "id": "16a2919c-10da-4724-a4d8-f6b5d4a5e97e",
   "metadata": {},
   "outputs": [],
   "source": [
    "#write a program to take key and value as a  input from the user and add it into the dictionary if key is not present  in the dictionary otherwise print key is already exist  and print its value\n"
   ]
  },
  {
   "cell_type": "code",
   "execution_count": 10,
   "id": "d2f6a2d7-859e-4404-b720-3de7b3bc1fdd",
   "metadata": {},
   "outputs": [
    {
     "name": "stdout",
     "output_type": "stream",
     "text": [
      "enter the index:  3\n"
     ]
    },
    {
     "name": "stdout",
     "output_type": "stream",
     "text": [
      "4\n"
     ]
    }
   ],
   "source": [
    "a=[1,2,3,4,5]\n",
    "i=int(input(\"enter the index: \"))\n",
    "try:\n",
    "     print(a[i])\n",
    "except:\n",
    "     print(\"index not found\")\n",
    "      "
   ]
  },
  {
   "cell_type": "code",
   "execution_count": 20,
   "id": "479aff69-0972-4e0d-be05-06a068ae4b12",
   "metadata": {},
   "outputs": [
    {
     "name": "stdout",
     "output_type": "stream",
     "text": [
      "Enter a character:  9\n"
     ]
    },
    {
     "name": "stdout",
     "output_type": "stream",
     "text": [
      "The character '9' is aNumerical.\n"
     ]
    }
   ],
   "source": [
    "def identify_character(char):\n",
    "    if char.islower():\n",
    "       return \"Lowercase\"\n",
    "    elif char.isupper():\n",
    "       return \"Uppercase\"\n",
    "    elif char.isdigit():\n",
    "       return \"Numerical\"\n",
    "    else:\n",
    "       return \"Special character\"\n",
    "user_input = input(\"Enter a character: \")\n",
    "\n",
    "if len(user_input) == 1:\n",
    "    result = identify_character(user_input)\n",
    "    print(f\"The character '{user_input}' is a{result}.\")\n",
    "else:\n",
    "    print(\"Please enter  only one character.\")"
   ]
  },
  {
   "cell_type": "code",
   "execution_count": 24,
   "id": "72d3b29d-a2bb-43f5-b655-18acfb994caf",
   "metadata": {},
   "outputs": [
    {
     "name": "stdout",
     "output_type": "stream",
     "text": [
      "Enter a string:  radar\n"
     ]
    },
    {
     "name": "stdout",
     "output_type": "stream",
     "text": [
      "The string is a palindrome.\n"
     ]
    }
   ],
   "source": [
    "def is_palindrome(s):\n",
    "    \n",
    "    s = ''.join(char.lower() for char in s if char.isalnum())\n",
    "    return s == s[::-1]\n",
    "\n",
    "user_input = input(\"Enter a string: \")\n",
    "if is_palindrome(user_input):\n",
    "    print(\"The string is a palindrome.\")\n",
    "else:\n",
    "    print(\"The string is not a palindrome.\")\n"
   ]
  },
  {
   "cell_type": "code",
   "execution_count": 30,
   "id": "9e366f98-ad48-43d4-be71-3705ef94e0af",
   "metadata": {},
   "outputs": [
    {
     "name": "stdout",
     "output_type": "stream",
     "text": [
      "Select operation:\n",
      "1. Addition\n",
      "2. Subtraction\n",
      "3. Multiplication\n",
      "4. Division\n",
      "5. Modulo\n",
      "6. Power\n"
     ]
    },
    {
     "name": "stdout",
     "output_type": "stream",
     "text": [
      "Enter choice (1/2/3/4/5/6):  2\n",
      "Enter first number:  2\n",
      "Enter second number:  3\n"
     ]
    },
    {
     "name": "stdout",
     "output_type": "stream",
     "text": [
      "Result: -1.0\n"
     ]
    }
   ],
   "source": [
    "def add(x, y):\n",
    "    return x + y\n",
    "\n",
    "def subtract(x, y):\n",
    "    return x - y\n",
    "\n",
    "def multiply(x, y):\n",
    "    return x * y\n",
    "\n",
    "def divide(x, y):\n",
    "    if y == 0:\n",
    "        return \"Error! Cannot divide by zero.\"\n",
    "    else:\n",
    "        return x / y\n",
    "\n",
    "def modulo(x, y):\n",
    "    return x % y\n",
    "\n",
    "def power(x, y):\n",
    "    return x ** y\n",
    "\n",
    "print(\"Select operation:\")\n",
    "print(\"1. Addition\")\n",
    "print(\"2. Subtraction\")\n",
    "print(\"3. Multiplication\")\n",
    "print(\"4. Division\")\n",
    "print(\"5. Modulo\")\n",
    "print(\"6. Power\")\n",
    "\n",
    "while True:\n",
    "    choice = input(\"Enter choice (1/2/3/4/5/6): \")\n",
    "\n",
    "    if choice in ('1', '2', '3', '4', '5', '6'):\n",
    "        num1 = float(input(\"Enter first number: \"))\n",
    "        num2 = float(input(\"Enter second number: \"))\n",
    "\n",
    "        if choice == '1':\n",
    "            print(\"Result:\", add(num1, num2))\n",
    "        elif choice == '2':\n",
    "            print(\"Result:\", subtract(num1, num2))\n",
    "        elif choice == '3':\n",
    "            print(\"Result:\", multiply(num1, num2))\n",
    "        elif choice == '4':\n",
    "            print(\"Result:\", divide(num1, num2))\n",
    "        elif choice == '5':\n",
    "            print(\"Result:\", modulo(num1, num2))\n",
    "        elif choice == '6':\n",
    "            print(\"Result:\", power(num1, num2))\n",
    "        \n",
    "        break\n",
    "    else:\n",
    "        print(\"Invalid input\")\n"
   ]
  },
  {
   "cell_type": "code",
   "execution_count": 31,
   "id": "2ae2e474-c47a-4919-b7fe-17af9cc2005f",
   "metadata": {},
   "outputs": [
    {
     "name": "stdout",
     "output_type": "stream",
     "text": [
      "Enter a number:  7\n"
     ]
    },
    {
     "name": "stdout",
     "output_type": "stream",
     "text": [
      "7 is a prime number\n"
     ]
    }
   ],
   "source": [
    "def is_prime(n):\n",
    "    if n <= 1:\n",
    "        return False\n",
    "    elif n == 2:\n",
    "        return True\n",
    "    elif n % 2 == 0:\n",
    "        return False\n",
    "    else:\n",
    "        for i in range(3, int(n**0.5) + 1, 2):\n",
    "            if n % i == 0:\n",
    "                return False\n",
    "        return True\n",
    "\n",
    "num = int(input(\"Enter a number: \"))\n",
    "\n",
    "if is_prime(num):\n",
    "    print(num, \"is a prime number\")\n",
    "else:\n",
    "    print(num, \"is not a prime number\")"
   ]
  },
  {
   "cell_type": "code",
   "execution_count": 32,
   "id": "70998c0d-93e9-47aa-9ddf-d4fca9c793ec",
   "metadata": {},
   "outputs": [
    {
     "name": "stdout",
     "output_type": "stream",
     "text": [
      "Enter a number:  6\n"
     ]
    },
    {
     "name": "stdout",
     "output_type": "stream",
     "text": [
      "The factorial of 6 is 720\n"
     ]
    }
   ],
   "source": [
    "def factorial(n):\n",
    "    if n == 0:\n",
    "        return 1\n",
    "    else:\n",
    "        return n * factorial(n-1)\n",
    "\n",
    "num = int(input(\"Enter a number: \"))\n",
    "\n",
    "if num < 0:\n",
    "    print(\"Factorial is not defined for negative numbers.\")\n",
    "elif num == 0:\n",
    "    print(\"The factorial of 0 is 1\")\n",
    "else:\n",
    "    print(\"The factorial of\", num, \"is\", factorial(num))\n",
    "\n"
   ]
  },
  {
   "cell_type": "code",
   "execution_count": 33,
   "id": "50cb65f4-7c48-42cc-84e5-ed4d19403afb",
   "metadata": {},
   "outputs": [
    {
     "name": "stdout",
     "output_type": "stream",
     "text": [
      "Ignoring non-numeric value: five\n",
      "Sum of list elements: 16.5\n"
     ]
    }
   ],
   "source": [
    "def sum_of_list(lst):\n",
    "    total = 0\n",
    "    for item in lst:\n",
    "        if isinstance(item, (int, float)):\n",
    "            total += item\n",
    "        elif isinstance(item, str) and item.isdigit():\n",
    "            total += int(item)\n",
    "        else:\n",
    "            print(f\"Ignoring non-numeric value: {item}\")\n",
    "    return total\n",
    "\n",
    "# Test the function\n",
    "my_list = [1, 2, 3, '4', 'five', 6.5]\n",
    "print(\"Sum of list elements:\", sum_of_list(my_list))\n"
   ]
  },
  {
   "cell_type": "code",
   "execution_count": 34,
   "id": "bf07b87e-41f2-4a82-b63e-6ad1c17b475e",
   "metadata": {},
   "outputs": [
    {
     "name": "stdout",
     "output_type": "stream",
     "text": [
      "Ignoring non-numeric grade: A\n",
      "Ignoring non-numeric grade: B\n",
      "Average grade: 87.75\n",
      "Dictionary is empty.\n",
      "Average grade: None\n"
     ]
    }
   ],
   "source": [
    "def calculate_average_grade(student_grades):\n",
    "    if not student_grades:\n",
    "        print(\"Dictionary is empty.\")\n",
    "        return None\n",
    "    \n",
    "    total_grade = 0\n",
    "    num_students = 0\n",
    "    for grade in student_grades.values():\n",
    "        if isinstance(grade, (int, float)):\n",
    "            total_grade += grade\n",
    "            num_students += 1\n",
    "        else:\n",
    "            print(f\"Ignoring non-numeric grade: {grade}\")\n",
    "\n",
    "    if num_students == 0:\n",
    "        print(\"No valid grades found in the dictionary.\")\n",
    "        return None\n",
    "    \n",
    "    average_grade = total_grade / num_students\n",
    "    return average_grade\n",
    "\n",
    "student_grades = {'Alice': 85, 'Bob': 'A', 'Charlie': 90.5, 'David': 'B'}\n",
    "print(\"Average grade:\", calculate_average_grade(student_grades))\n",
    "\n",
    "empty_dict = {}\n",
    "print(\"Average grade:\", calculate_average_grade(empty_dict))\n"
   ]
  },
  {
   "cell_type": "code",
   "execution_count": null,
   "id": "4d74d6a0-490c-40a7-b28d-4e6c46cc9c69",
   "metadata": {},
   "outputs": [],
   "source": []
  }
 ],
 "metadata": {
  "kernelspec": {
   "display_name": "Python 3 (ipykernel)",
   "language": "python",
   "name": "python3"
  },
  "language_info": {
   "codemirror_mode": {
    "name": "ipython",
    "version": 3
   },
   "file_extension": ".py",
   "mimetype": "text/x-python",
   "name": "python",
   "nbconvert_exporter": "python",
   "pygments_lexer": "ipython3",
   "version": "3.12.3"
  }
 },
 "nbformat": 4,
 "nbformat_minor": 5
}
