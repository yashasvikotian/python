{
 "cells": [
  {
   "cell_type": "code",
   "execution_count": 5,
   "id": "430e0be4-605b-4ee7-86ed-eaa1d8eebe84",
   "metadata": {},
   "outputs": [
    {
     "name": "stdin",
     "output_type": "stream",
     "text": [
      " !\n"
     ]
    },
    {
     "name": "stdout",
     "output_type": "stream",
     "text": [
      "A is a special character\n"
     ]
    }
   ],
   "source": [
    "a=input()\n",
    "\n",
    "if a.isupper():\n",
    "    print(\"A is aupper case character\")\n",
    "elif a.islower():\n",
    "   print(\"A is alower case character\")\n",
    "elif a.isnumeric():\n",
    "    print(\"A is a number\")\n",
    "else:\n",
    "    print(\"A is a special character\")\n",
    "\n",
    "\n"
   ]
  },
  {
   "cell_type": "code",
   "execution_count": 22,
   "id": "38bed80e-5708-43b9-8e15-8c88bc9d6d2b",
   "metadata": {},
   "outputs": [
    {
     "name": "stdin",
     "output_type": "stream",
     "text": [
      " 33\n"
     ]
    },
    {
     "name": "stdout",
     "output_type": "stream",
     "text": [
      "it is a prime no\n"
     ]
    }
   ],
   "source": [
    "a=int(input())\n",
    "\n",
    "for i in range (2,int(a/2)):\n",
    "       if a%i==0:\n",
    "           print(\"it is not a prime number\")\n",
    "           break\n",
    "       else:\n",
    "           print(\"it is a prime no\")\n",
    "           break\n",
    "    \n",
    "    "
   ]
  },
  {
   "cell_type": "code",
   "execution_count": null,
   "id": "96079d2e-0259-4c4c-975b-32dfb8d60045",
   "metadata": {},
   "outputs": [],
   "source": [
    "if_name__=='main__':\n",
    "  filename = \"example.txt\"\n",
    "  new-filename = \"new_example.\"txt\"\n",
    "\n",
    "  create_file(filename)\n",
    "  read_file(filename)\n",
    "  append_file(filename,\"this is some additional text:\\n\")\n",
    "  read_file(filename)\n",
    "  reaname_file(filename,new_filename)\n",
    "  read_file(new_filename)\n"
   ]
  },
  {
   "cell_type": "code",
   "execution_count": 43,
   "id": "c0ca7660-a9ce-475f-9f5e-bbd14f065549",
   "metadata": {},
   "outputs": [],
   "source": [
    "import os\n",
    "\n",
    "with open (\"file1.txt\",'w')as f:\n",
    "     f.write(\"first word\\n\")\n",
    "     f.close()"
   ]
  },
  {
   "cell_type": "code",
   "execution_count": 38,
   "id": "dceaa224-4456-480b-b8e1-a281ad120aaa",
   "metadata": {},
   "outputs": [
    {
     "name": "stdout",
     "output_type": "stream",
     "text": [
      "33\n",
      "324\n",
      "33\n",
      "324\n"
     ]
    }
   ],
   "source": [
    "import os\n",
    "\n",
    "with open (\"file1.txt\",'r')as f:\n",
    "    for i in f.read().split(\"\\n\"):\n",
    "        print(a)\n",
    "        print(\"324\")\n",
    "\n",
    "f.close()"
   ]
  },
  {
   "cell_type": "code",
   "execution_count": 42,
   "id": "5ebdf39e-de1d-4f4c-8f1f-2b3083704997",
   "metadata": {},
   "outputs": [],
   "source": [
    "import os\n",
    "\n",
    "with open (\"file1.txt\",'a') as f:\n",
    "     f.write(\"second word\\n\")\n",
    "     f.close()"
   ]
  },
  {
   "cell_type": "code",
   "execution_count": null,
   "id": "aa887fe9-101e-46db-b05d-fec7f6cb03df",
   "metadata": {},
   "outputs": [],
   "source": [
    "w=write\n",
    "r= read\n",
    "a=append\n",
    "w+=write and read\n",
    "r+read and write\n",
    "a+= append and read\n"
   ]
  },
  {
   "cell_type": "code",
   "execution_count": null,
   "id": "17ea10bc-f166-42d6-ade4-eeb87bb978b2",
   "metadata": {},
   "outputs": [],
   "source": [
    "Convert a temperature from Celsius to Fahrenheit."
   ]
  },
  {
   "cell_type": "code",
   "execution_count": 54,
   "id": "63e36121-29d0-4b9a-a697-de0073d2d64f",
   "metadata": {},
   "outputs": [
    {
     "name": "stdin",
     "output_type": "stream",
     "text": [
      "Enter the temperature in celsius:  0\n"
     ]
    },
    {
     "name": "stdout",
     "output_type": "stream",
     "text": [
      "The Given Temparature in Fahrenhiet: 32.0\n"
     ]
    }
   ],
   "source": [
    "Cel=int(input(\"Enter the temperature in celsius: \"))\n",
    "fah=(Cel*1.8)+32\n",
    "print(\"The Given Temparature in Fahrenhiet:\",fah)"
   ]
  },
  {
   "cell_type": "code",
   "execution_count": null,
   "id": "9ba33b14-c7b6-4582-b446-4b279a42177c",
   "metadata": {},
   "outputs": [],
   "source": [
    "Create a file Named as Fruit name\n",
    "and Add the fruit names by taking input from the user.\n",
    "\n",
    "after that replace a fruit name with other fruit name entered by the user.\n",
    "\n",
    "for example:\n",
    "\n",
    "file have \n",
    "Apple\n",
    "Banana\n",
    "Mango\n",
    "Grapes\n",
    "\n",
    "now replace Banana with watermelon"
   ]
  },
  {
   "cell_type": "code",
   "execution_count": 55,
   "id": "4ae419af-6cf4-4b95-901d-5a679fb70e8a",
   "metadata": {},
   "outputs": [
    {
     "name": "stdout",
     "output_type": "stream",
     "text": [
      "Apple\n",
      "Banana\n",
      "Mango\n",
      "Grapes\n",
      "\n",
      "Apple\n",
      "Watermelon\n",
      "Mango\n",
      "Grapes\n",
      "\n"
     ]
    }
   ],
   "source": [
    "import os\n",
    "with open( \"Fruit Name.txt\",'w') as f:\n",
    "    f.write(\"Apple\\n\")\n",
    "    f.write(\"Banana\\n\")\n",
    "    f.write(\"Mango\\n\")\n",
    "    f.write(\"Grapes\\n\")\n",
    "with open(\"Fruit Name.txt\",'r')as f:\n",
    "    a=f.read()\n",
    "    print(a)\n",
    "    Y=a.replace(\"Banana\",\"Watermelon\",1)\n",
    "    print(Y)"
   ]
  },
  {
   "cell_type": "code",
   "execution_count": null,
   "id": "fb90bc90-9a16-480c-911d-258f3480ad9f",
   "metadata": {},
   "outputs": [],
   "source": [
    "Count the occurrences of each element in a list."
   ]
  },
  {
   "cell_type": "code",
   "execution_count": 57,
   "id": "fca5e8d8-4053-4ee3-a81e-fe0e6a3ec798",
   "metadata": {},
   "outputs": [
    {
     "name": "stdout",
     "output_type": "stream",
     "text": [
      "{1: 7, 2: 5, 3: 4, 4: 6}\n"
     ]
    }
   ],
   "source": [
    "l=[1,1,1,1,1,1,1,2,2,2,2,2,3,3,3,3,4,4,4,4,4,4,]\n",
    "\n",
    "d={}\n",
    "for i in l:\n",
    "    if i not in d:\n",
    "        d[i] = l.count(i)\n",
    "print(d)        "
   ]
  },
  {
   "cell_type": "code",
   "execution_count": null,
   "id": "aa92a899-7ef0-4e30-9ab3-d96d573a9972",
   "metadata": {},
   "outputs": [],
   "source": [
    "Find the sum of all even numbers in a list."
   ]
  },
  {
   "cell_type": "code",
   "execution_count": 1,
   "id": "d419e32b-9d65-466d-8e06-74153d0811b2",
   "metadata": {},
   "outputs": [
    {
     "name": "stdin",
     "output_type": "stream",
     "text": [
      "Enter the size:  3\n"
     ]
    },
    {
     "name": "stdout",
     "output_type": "stream",
     "text": [
      "Enter the elements: \n"
     ]
    },
    {
     "name": "stdin",
     "output_type": "stream",
     "text": [
      " 12\n",
      " 14\n",
      " 29\n"
     ]
    },
    {
     "name": "stdout",
     "output_type": "stream",
     "text": [
      "The Second Largest: 14\n"
     ]
    }
   ],
   "source": [
    "d=[]\n",
    "n=int(input(\"Enter the size: \"))\n",
    "print(\"Enter the elements: \")\n",
    "for i in range(0,n):\n",
    "    a=int(input())\n",
    "    d.append(a)\n",
    "\n",
    "d.sort()\n",
    "print(\"The Second Largest:\",end=\" \")\n",
    "print(d[-2])"
   ]
  },
  {
   "cell_type": "code",
   "execution_count": null,
   "id": "f79a522a-eb8a-408f-860b-8f923b4bcbef",
   "metadata": {},
   "outputs": [],
   "source": [
    "Count the number of vowels in a string."
   ]
  },
  {
   "cell_type": "code",
   "execution_count": 2,
   "id": "4f495fac-53be-4b3c-a048-4c95a181b740",
   "metadata": {},
   "outputs": [
    {
     "name": "stdin",
     "output_type": "stream",
     "text": [
      "enter the sentence: Hello world\n"
     ]
    },
    {
     "name": "stdout",
     "output_type": "stream",
     "text": [
      "hello world\n",
      "number vowels in given sentence is: 3\n"
     ]
    }
   ],
   "source": [
    "sentence = input(\"enter the sentence:\")\n",
    "string = sentence.lower()\n",
    "print(string)\n",
    "count = 0\n",
    "list1 = [\"a\",\"e\",\"i\",\"o\",\"u\"]\n",
    "for char in string:\n",
    "    if char in list1:\n",
    "        count = count+1\n",
    "\n",
    "print(\"number vowels in given sentence is:\",count)"
   ]
  },
  {
   "cell_type": "code",
   "execution_count": 4,
   "id": "b21e552c-6abc-4328-bc31-7d2987a20e9e",
   "metadata": {},
   "outputs": [
    {
     "name": "stdin",
     "output_type": "stream",
     "text": [
      "Enter a word :  world\n"
     ]
    },
    {
     "name": "stdout",
     "output_type": "stream",
     "text": [
      "dlrow\n",
      "\n"
     ]
    }
   ],
   "source": [
    "#count the no of the vowels in a string\n",
    "\n",
    "str = input(\"Enter a word : \")\n",
    "for i in range(len(str) -1, -1, -1):\n",
    "  print(str[i], end = \"\")\n",
    "print(\"\\n\")"
   ]
  },
  {
   "cell_type": "code",
   "execution_count": null,
   "id": "b98e29cc-f736-4c9e-9704-a627b06c73e4",
   "metadata": {},
   "outputs": [],
   "source": [
    "Find the second largest element in a list."
   ]
  },
  {
   "cell_type": "code",
   "execution_count": 5,
   "id": "1d60d443-8d54-4961-8d60-8a08f1f60cd4",
   "metadata": {},
   "outputs": [
    {
     "name": "stdout",
     "output_type": "stream",
     "text": [
      "second largest element is : 80\n"
     ]
    }
   ],
   "source": [
    "l1 =[10,40,70,80,99]\n",
    "l1.sort()\n",
    "element = l1[-2]\n",
    "\n",
    "print(\"second largest element is :\",element)"
   ]
  },
  {
   "cell_type": "code",
   "execution_count": null,
   "id": "46b4d2b7-802a-41fc-a190-271cdf9c312a",
   "metadata": {},
   "outputs": [],
   "source": []
  }
 ],
 "metadata": {
  "kernelspec": {
   "display_name": "Python 3 (ipykernel)",
   "language": "python",
   "name": "python3"
  },
  "language_info": {
   "codemirror_mode": {
    "name": "ipython",
    "version": 3
   },
   "file_extension": ".py",
   "mimetype": "text/x-python",
   "name": "python",
   "nbconvert_exporter": "python",
   "pygments_lexer": "ipython3",
   "version": "3.12.3"
  }
 },
 "nbformat": 4,
 "nbformat_minor": 5
}
